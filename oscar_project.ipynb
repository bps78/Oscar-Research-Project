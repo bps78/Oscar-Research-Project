{
 "cells": [
  {
   "metadata": {
    "ExecuteTime": {
     "end_time": "2025-06-10T21:43:02.937937Z",
     "start_time": "2025-06-10T21:43:02.283696Z"
    }
   },
   "cell_type": "code",
   "source": [
    "import numpy as np\n",
    "import pandas as pd"
   ],
   "id": "fbc121e30a2defb3",
   "outputs": [],
   "execution_count": 3
  },
  {
   "metadata": {
    "ExecuteTime": {
     "end_time": "2025-06-10T22:29:37.061846Z",
     "start_time": "2025-06-10T22:29:37.036941Z"
    }
   },
   "cell_type": "code",
   "source": [
    "# Import the data\n",
    "disposals = pd.read_csv('disposals.csv')\n",
    "disposals.head()"
   ],
   "id": "70d1b3fc122625e4",
   "outputs": [
    {
     "data": {
      "text/plain": [
       "        Date                          Device        Bin            Item  \\\n",
       "0   1/7/2025  uwisconsin_madison_oscarsort_1      Trash  plastic gloves   \n",
       "1   1/7/2025  uwisconsin_madison_oscarsort_2      Trash      apple core   \n",
       "2   1/7/2025  uwisconsin_madison_oscarsort_3      Trash    plastic wrap   \n",
       "3  1/14/2025  uwisconsin_madison_oscarsort_1  Recycling       tetrapack   \n",
       "4  1/14/2025  uwisconsin_madison_oscarsort_1  Recycling         wrapper   \n",
       "\n",
       "   Disposals  Contaminants Correct Bin  \n",
       "0          2             0       Trash  \n",
       "1          1             0       Trash  \n",
       "2          1             0       Trash  \n",
       "3          1             1       Trash  \n",
       "4          1             1       Trash  "
      ],
      "text/html": [
       "<div>\n",
       "<style scoped>\n",
       "    .dataframe tbody tr th:only-of-type {\n",
       "        vertical-align: middle;\n",
       "    }\n",
       "\n",
       "    .dataframe tbody tr th {\n",
       "        vertical-align: top;\n",
       "    }\n",
       "\n",
       "    .dataframe thead th {\n",
       "        text-align: right;\n",
       "    }\n",
       "</style>\n",
       "<table border=\"1\" class=\"dataframe\">\n",
       "  <thead>\n",
       "    <tr style=\"text-align: right;\">\n",
       "      <th></th>\n",
       "      <th>Date</th>\n",
       "      <th>Device</th>\n",
       "      <th>Bin</th>\n",
       "      <th>Item</th>\n",
       "      <th>Disposals</th>\n",
       "      <th>Contaminants</th>\n",
       "      <th>Correct Bin</th>\n",
       "    </tr>\n",
       "  </thead>\n",
       "  <tbody>\n",
       "    <tr>\n",
       "      <th>0</th>\n",
       "      <td>1/7/2025</td>\n",
       "      <td>uwisconsin_madison_oscarsort_1</td>\n",
       "      <td>Trash</td>\n",
       "      <td>plastic gloves</td>\n",
       "      <td>2</td>\n",
       "      <td>0</td>\n",
       "      <td>Trash</td>\n",
       "    </tr>\n",
       "    <tr>\n",
       "      <th>1</th>\n",
       "      <td>1/7/2025</td>\n",
       "      <td>uwisconsin_madison_oscarsort_2</td>\n",
       "      <td>Trash</td>\n",
       "      <td>apple core</td>\n",
       "      <td>1</td>\n",
       "      <td>0</td>\n",
       "      <td>Trash</td>\n",
       "    </tr>\n",
       "    <tr>\n",
       "      <th>2</th>\n",
       "      <td>1/7/2025</td>\n",
       "      <td>uwisconsin_madison_oscarsort_3</td>\n",
       "      <td>Trash</td>\n",
       "      <td>plastic wrap</td>\n",
       "      <td>1</td>\n",
       "      <td>0</td>\n",
       "      <td>Trash</td>\n",
       "    </tr>\n",
       "    <tr>\n",
       "      <th>3</th>\n",
       "      <td>1/14/2025</td>\n",
       "      <td>uwisconsin_madison_oscarsort_1</td>\n",
       "      <td>Recycling</td>\n",
       "      <td>tetrapack</td>\n",
       "      <td>1</td>\n",
       "      <td>1</td>\n",
       "      <td>Trash</td>\n",
       "    </tr>\n",
       "    <tr>\n",
       "      <th>4</th>\n",
       "      <td>1/14/2025</td>\n",
       "      <td>uwisconsin_madison_oscarsort_1</td>\n",
       "      <td>Recycling</td>\n",
       "      <td>wrapper</td>\n",
       "      <td>1</td>\n",
       "      <td>1</td>\n",
       "      <td>Trash</td>\n",
       "    </tr>\n",
       "  </tbody>\n",
       "</table>\n",
       "</div>"
      ]
     },
     "execution_count": 15,
     "metadata": {},
     "output_type": "execute_result"
    }
   ],
   "execution_count": 15
  },
  {
   "metadata": {},
   "cell_type": "markdown",
   "source": [
    "## Analyze the Qualities of Each Column\n",
    "\n"
   ],
   "id": "3357f698bc7618dc"
  },
  {
   "metadata": {
    "ExecuteTime": {
     "end_time": "2025-06-10T21:58:59.141877Z",
     "start_time": "2025-06-10T21:58:59.137698Z"
    }
   },
   "cell_type": "code",
   "source": [
    "column_names = disposals.columns\n",
    "print(column_names)"
   ],
   "id": "e6b409f123948586",
   "outputs": [
    {
     "name": "stdout",
     "output_type": "stream",
     "text": [
      "Index(['Date', 'Device', 'Bin', 'Item', 'Disposals', 'Contaminants',\n",
      "       'Correct Bin'],\n",
      "      dtype='object')\n"
     ]
    }
   ],
   "execution_count": 7
  },
  {
   "metadata": {},
   "cell_type": "markdown",
   "source": [
    "### Date\n",
    "The day that the disposal took place"
   ],
   "id": "656b6f05cd6b313b"
  },
  {
   "metadata": {
    "ExecuteTime": {
     "end_time": "2025-06-10T22:29:05.972919Z",
     "start_time": "2025-06-10T22:29:05.966881Z"
    }
   },
   "cell_type": "code",
   "source": [
    "date_min = disposals['Date'].min()\n",
    "date_max = disposals['Date'].max()\n",
    "print(len(disposals['Date']), date_min, date_max)"
   ],
   "id": "c9982939367061aa",
   "outputs": [
    {
     "name": "stdout",
     "output_type": "stream",
     "text": [
      "2504 1/14/2025 4/8/2025\n"
     ]
    }
   ],
   "execution_count": 14
  },
  {
   "metadata": {},
   "cell_type": "markdown",
   "source": [
    "### Device\n",
    "The Oscar device that the disposal was made in\n",
    "(1: U South, 2: Dejope, 3: Mem U, 4: Gordon Dining)"
   ],
   "id": "a58106077f485df3"
  },
  {
   "metadata": {
    "ExecuteTime": {
     "end_time": "2025-06-10T22:30:29.057693Z",
     "start_time": "2025-06-10T22:30:29.052674Z"
    }
   },
   "cell_type": "code",
   "source": "print(len(disposals['Device']), disposals['Device'].unique())",
   "id": "4d97c4e281233402",
   "outputs": [
    {
     "name": "stdout",
     "output_type": "stream",
     "text": [
      "2504 ['uwisconsin_madison_oscarsort_1' 'uwisconsin_madison_oscarsort_2'\n",
      " 'uwisconsin_madison_oscarsort_3' 'uwisconsin_madison_oscarsort_4']\n"
     ]
    }
   ],
   "execution_count": 16
  },
  {
   "metadata": {},
   "cell_type": "markdown",
   "source": [
    "### Bin\n",
    "The bin that the disposal was placed in"
   ],
   "id": "af516def97d30d5e"
  },
  {
   "metadata": {
    "ExecuteTime": {
     "end_time": "2025-06-10T22:31:02.571901Z",
     "start_time": "2025-06-10T22:31:02.566640Z"
    }
   },
   "cell_type": "code",
   "source": "print(len(disposals['Bin']), disposals['Bin'].unique())",
   "id": "a06025fcafb0335c",
   "outputs": [
    {
     "name": "stdout",
     "output_type": "stream",
     "text": [
      "2504 ['Trash' 'Recycling']\n"
     ]
    }
   ],
   "execution_count": 17
  },
  {
   "metadata": {},
   "cell_type": "markdown",
   "source": [
    "### Item\n",
    "The type of item that was disposed of"
   ],
   "id": "61125ea6b3ab520d"
  },
  {
   "metadata": {
    "ExecuteTime": {
     "end_time": "2025-06-10T22:31:37.158782Z",
     "start_time": "2025-06-10T22:31:37.151782Z"
    }
   },
   "cell_type": "code",
   "source": "len(disposals['Item']), disposals['Item'].unique()",
   "id": "180b62b95956de79",
   "outputs": [
    {
     "data": {
      "text/plain": [
       "(2504,\n",
       " array(['plastic gloves', 'apple core', 'plastic wrap', 'tetrapack',\n",
       "        'wrapper', 'plastic cutlery', 'plastic bottle', 'food box',\n",
       "        'napkin', 'plastic bag', 'plastic lid', 'plastic container',\n",
       "        'coffee cup lid', 'coffee cup', 'plastic sauce cup',\n",
       "        'plastic straw', 'plastic cup', 'coffee cup sleeve',\n",
       "        'paper wrapper', 'paper', 'chopsticks', 'food scraps',\n",
       "        'aluminium can', 'soft plastic lid', 'paper pop cup', 'liquids',\n",
       "        'paper bag', 'banana peel', 'paper bowl', 'orange peel',\n",
       "        'cardboard', 'waxed food paper', 'yoghurt container', 'face mask',\n",
       "        'stirstick', 'paper plate', 'chip bag', 'paper plastic bag',\n",
       "        'receipt', 'aluminium foil', 'aluminium container', 'glass bottle',\n",
       "        'sauce packet', 'aluminium bottle', 'coffee creamer cup',\n",
       "        'paper lid', 'pizza box', 'paper sauce cup', 'paper drink tray',\n",
       "        'battery', 'magazine', 'wooden cutlery', 'tea bag', 'apple scraps',\n",
       "        'juice pouch'], dtype=object))"
      ]
     },
     "execution_count": 18,
     "metadata": {},
     "output_type": "execute_result"
    }
   ],
   "execution_count": 18
  },
  {
   "metadata": {},
   "cell_type": "markdown",
   "source": [
    "### Disposals\n",
    "The number of times that item was disposed in that device's bin on that date"
   ],
   "id": "f926e37cd88f264"
  },
  {
   "metadata": {
    "ExecuteTime": {
     "end_time": "2025-06-10T22:35:15.881311Z",
     "start_time": "2025-06-10T22:35:15.874367Z"
    }
   },
   "cell_type": "code",
   "source": "print(len(disposals['Disposals']), disposals['Disposals'].min(), disposals['Disposals'].mean(), disposals['Disposals'].max())",
   "id": "45fd2b2a33c48bf4",
   "outputs": [
    {
     "name": "stdout",
     "output_type": "stream",
     "text": [
      "2504 1 4.378194888178914 67\n"
     ]
    }
   ],
   "execution_count": 21
  },
  {
   "metadata": {},
   "cell_type": "markdown",
   "source": [
    "### Contaminants\n",
    "If the item was placed in the right bin, contaminants = 0. If placed in the wrong bin, contaminants = disposals"
   ],
   "id": "13e4a5bc62e5e11a"
  },
  {
   "metadata": {
    "ExecuteTime": {
     "end_time": "2025-06-10T22:36:10.658252Z",
     "start_time": "2025-06-10T22:36:10.652729Z"
    }
   },
   "cell_type": "code",
   "source": "print(len(disposals['Contaminants']), disposals['Contaminants'].min(), disposals['Contaminants'].mean(), disposals['Contaminants'].max())",
   "id": "4ec148b155ed83b8",
   "outputs": [
    {
     "name": "stdout",
     "output_type": "stream",
     "text": [
      "2504 0 1.4404952076677315 47\n"
     ]
    }
   ],
   "execution_count": 22
  },
  {
   "metadata": {},
   "cell_type": "markdown",
   "source": [
    "### Correct Bin\n",
    "The type of bin that the item belongs in when disposed of correctly"
   ],
   "id": "ac2c3ab4d6ebfc01"
  },
  {
   "metadata": {
    "ExecuteTime": {
     "end_time": "2025-06-10T22:36:51.724357Z",
     "start_time": "2025-06-10T22:36:51.717974Z"
    }
   },
   "cell_type": "code",
   "source": "print(len(disposals['Correct Bin']), disposals['Correct Bin'].unique())",
   "id": "e4285bb18f7fdcb8",
   "outputs": [
    {
     "name": "stdout",
     "output_type": "stream",
     "text": [
      "2504 ['Trash' 'Recycling']\n"
     ]
    }
   ],
   "execution_count": 23
  },
  {
   "metadata": {},
   "cell_type": "markdown",
   "source": "**TODO**: Plot trends over time, Bring in waste audit data, Perform exploratory statistics",
   "id": "2c27a0bd559e6089"
  }
 ],
 "metadata": {
  "kernelspec": {
   "display_name": "Python 3",
   "language": "python",
   "name": "python3"
  },
  "language_info": {
   "codemirror_mode": {
    "name": "ipython",
    "version": 2
   },
   "file_extension": ".py",
   "mimetype": "text/x-python",
   "name": "python",
   "nbconvert_exporter": "python",
   "pygments_lexer": "ipython2",
   "version": "2.7.6"
  }
 },
 "nbformat": 4,
 "nbformat_minor": 5
}
